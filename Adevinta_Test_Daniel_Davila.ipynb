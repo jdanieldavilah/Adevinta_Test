{
 "cells": [
  {
   "cell_type": "markdown",
   "metadata": {},
   "source": [
    "# Data Analysis Task"
   ]
  },
  {
   "cell_type": "markdown",
   "metadata": {},
   "source": [
    "## Background:\n",
    "### Discovery (and other teams within the Foundation) rely on event logging (EL) to track a variety of performance and usage metrics to help us make decisions. Specifically, Discovery is interested in:\n",
    "\n",
    "### - clickthrough rate: the proportion of search sessions where the user clicked on one of the results displayed\n",
    "### - zero results rate: the proportion of searches that yielded 0 results"
   ]
  },
  {
   "cell_type": "markdown",
   "metadata": {},
   "source": [
    "## Exploratory Analysis:\n",
    "### The first step to start this analysis is to understand the data provided and import the necessary packages."
   ]
  },
  {
   "cell_type": "code",
   "execution_count": 1,
   "metadata": {},
   "outputs": [],
   "source": [
    "import pandas as pd\n",
    "import seaborn as sns\n",
    "import matplotlib.pyplot as plt\n",
    "import datetime\n",
    "from statistics import mean\n",
    "import numpy as np"
   ]
  },
  {
   "cell_type": "code",
   "execution_count": 2,
   "metadata": {},
   "outputs": [],
   "source": [
    "#df = pd.read_csv(r'/Users/jdanieldavilah/Desktop/ADEVINTA/events_log.csv')"
   ]
  },
  {
   "cell_type": "code",
   "execution_count": 3,
   "metadata": {},
   "outputs": [],
   "source": [
    "# To read the csv, the original file has been split into 3 and stored on Github\n",
    "# it is necessary to read the 3 files and concat them. \n",
    "# first csv\n",
    "url1 =  'https://raw.githubusercontent.com/jdanieldavilah/Adevinta_Test/main/events_log1.csv'\n",
    "raw_df1 = pd.read_csv(url1,index_col=0)\n",
    "# second csv\n",
    "url2 =  'https://raw.githubusercontent.com/jdanieldavilah/Adevinta_Test/main/events_log2.csv'\n",
    "raw_df2 = pd.read_csv(url2,index_col=0)\n",
    "# third csv\n",
    "url3 =  'https://raw.githubusercontent.com/jdanieldavilah/Adevinta_Test/main/events_log3.csv'\n",
    "raw_df3 = pd.read_csv(url3,index_col=0)\n",
    "# unify the dataframes\n",
    "frames = [raw_df1, raw_df2, raw_df3]\n",
    "df = pd.concat(frames)"
   ]
  },
  {
   "cell_type": "code",
   "execution_count": 4,
   "metadata": {},
   "outputs": [
    {
     "data": {
      "text/html": [
       "<div>\n",
       "<style scoped>\n",
       "    .dataframe tbody tr th:only-of-type {\n",
       "        vertical-align: middle;\n",
       "    }\n",
       "\n",
       "    .dataframe tbody tr th {\n",
       "        vertical-align: top;\n",
       "    }\n",
       "\n",
       "    .dataframe thead th {\n",
       "        text-align: right;\n",
       "    }\n",
       "</style>\n",
       "<table border=\"1\" class=\"dataframe\">\n",
       "  <thead>\n",
       "    <tr style=\"text-align: right;\">\n",
       "      <th></th>\n",
       "      <th>uuid</th>\n",
       "      <th>timestamp</th>\n",
       "      <th>session_id</th>\n",
       "      <th>group</th>\n",
       "      <th>action</th>\n",
       "      <th>checkin</th>\n",
       "      <th>page_id</th>\n",
       "      <th>n_results</th>\n",
       "      <th>result_position</th>\n",
       "    </tr>\n",
       "  </thead>\n",
       "  <tbody>\n",
       "    <tr>\n",
       "      <th>0</th>\n",
       "      <td>00000736167c507e8ec225bd9e71f9e5</td>\n",
       "      <td>2.016030e+13</td>\n",
       "      <td>78245c2c3fba013a</td>\n",
       "      <td>b</td>\n",
       "      <td>searchResultPage</td>\n",
       "      <td>NaN</td>\n",
       "      <td>cbeb66d1bc1f1bc2</td>\n",
       "      <td>5.0</td>\n",
       "      <td>NaN</td>\n",
       "    </tr>\n",
       "    <tr>\n",
       "      <th>1</th>\n",
       "      <td>00000c69fe345268935463abbfa5d5b3</td>\n",
       "      <td>2.016031e+13</td>\n",
       "      <td>c559c3be98dca8a4</td>\n",
       "      <td>a</td>\n",
       "      <td>searchResultPage</td>\n",
       "      <td>NaN</td>\n",
       "      <td>eb658e8722aad674</td>\n",
       "      <td>10.0</td>\n",
       "      <td>NaN</td>\n",
       "    </tr>\n",
       "    <tr>\n",
       "      <th>2</th>\n",
       "      <td>00003bfdab715ee59077a3670331b787</td>\n",
       "      <td>2.016030e+13</td>\n",
       "      <td>760bf89817ce4b08</td>\n",
       "      <td>a</td>\n",
       "      <td>checkin</td>\n",
       "      <td>30.0</td>\n",
       "      <td>f99a9fc1f7fdd21e</td>\n",
       "      <td>NaN</td>\n",
       "      <td>NaN</td>\n",
       "    </tr>\n",
       "    <tr>\n",
       "      <th>3</th>\n",
       "      <td>0000465cd7c35ad2bdeafec953e08c1a</td>\n",
       "      <td>2.016030e+13</td>\n",
       "      <td>fb905603d31b2071</td>\n",
       "      <td>a</td>\n",
       "      <td>checkin</td>\n",
       "      <td>60.0</td>\n",
       "      <td>e5626962a6939a75</td>\n",
       "      <td>NaN</td>\n",
       "      <td>10.0</td>\n",
       "    </tr>\n",
       "    <tr>\n",
       "      <th>4</th>\n",
       "      <td>000050cbb4ef5b42b16c4d2cf69e6358</td>\n",
       "      <td>2.016030e+13</td>\n",
       "      <td>c2bf5e5172a892dc</td>\n",
       "      <td>a</td>\n",
       "      <td>checkin</td>\n",
       "      <td>30.0</td>\n",
       "      <td>787dd6a4c371cbf9</td>\n",
       "      <td>NaN</td>\n",
       "      <td>NaN</td>\n",
       "    </tr>\n",
       "  </tbody>\n",
       "</table>\n",
       "</div>"
      ],
      "text/plain": [
       "                               uuid     timestamp        session_id group  \\\n",
       "0  00000736167c507e8ec225bd9e71f9e5  2.016030e+13  78245c2c3fba013a     b   \n",
       "1  00000c69fe345268935463abbfa5d5b3  2.016031e+13  c559c3be98dca8a4     a   \n",
       "2  00003bfdab715ee59077a3670331b787  2.016030e+13  760bf89817ce4b08     a   \n",
       "3  0000465cd7c35ad2bdeafec953e08c1a  2.016030e+13  fb905603d31b2071     a   \n",
       "4  000050cbb4ef5b42b16c4d2cf69e6358  2.016030e+13  c2bf5e5172a892dc     a   \n",
       "\n",
       "             action  checkin           page_id  n_results  result_position  \n",
       "0  searchResultPage      NaN  cbeb66d1bc1f1bc2        5.0              NaN  \n",
       "1  searchResultPage      NaN  eb658e8722aad674       10.0              NaN  \n",
       "2           checkin     30.0  f99a9fc1f7fdd21e        NaN              NaN  \n",
       "3           checkin     60.0  e5626962a6939a75        NaN             10.0  \n",
       "4           checkin     30.0  787dd6a4c371cbf9        NaN              NaN  "
      ]
     },
     "execution_count": 4,
     "metadata": {},
     "output_type": "execute_result"
    }
   ],
   "source": [
    "df.head()"
   ]
  },
  {
   "cell_type": "code",
   "execution_count": 5,
   "metadata": {},
   "outputs": [
    {
     "data": {
      "text/plain": [
       "400165"
      ]
     },
     "execution_count": 5,
     "metadata": {},
     "output_type": "execute_result"
    }
   ],
   "source": [
    "len(df)"
   ]
  },
  {
   "cell_type": "code",
   "execution_count": 6,
   "metadata": {},
   "outputs": [
    {
     "data": {
      "text/plain": [
       "uuid                object\n",
       "timestamp          float64\n",
       "session_id          object\n",
       "group               object\n",
       "action              object\n",
       "checkin            float64\n",
       "page_id             object\n",
       "n_results          float64\n",
       "result_position    float64\n",
       "dtype: object"
      ]
     },
     "execution_count": 6,
     "metadata": {},
     "output_type": "execute_result"
    }
   ],
   "source": [
    "df.dtypes"
   ]
  },
  {
   "cell_type": "markdown",
   "metadata": {},
   "source": [
    "describe() was used as part of the exploratory analysis to understand volumes, means, percentiles and deviations."
   ]
  },
  {
   "cell_type": "code",
   "execution_count": 7,
   "metadata": {},
   "outputs": [
    {
     "data": {
      "text/html": [
       "<div>\n",
       "<style scoped>\n",
       "    .dataframe tbody tr th:only-of-type {\n",
       "        vertical-align: middle;\n",
       "    }\n",
       "\n",
       "    .dataframe tbody tr th {\n",
       "        vertical-align: top;\n",
       "    }\n",
       "\n",
       "    .dataframe thead th {\n",
       "        text-align: right;\n",
       "    }\n",
       "</style>\n",
       "<table border=\"1\" class=\"dataframe\">\n",
       "  <thead>\n",
       "    <tr style=\"text-align: right;\">\n",
       "      <th></th>\n",
       "      <th>timestamp</th>\n",
       "      <th>checkin</th>\n",
       "      <th>n_results</th>\n",
       "      <th>result_position</th>\n",
       "    </tr>\n",
       "  </thead>\n",
       "  <tbody>\n",
       "    <tr>\n",
       "      <th>count</th>\n",
       "      <td>4.001650e+05</td>\n",
       "      <td>223824.000000</td>\n",
       "      <td>136234.000000</td>\n",
       "      <td>230482.000000</td>\n",
       "    </tr>\n",
       "    <tr>\n",
       "      <th>mean</th>\n",
       "      <td>2.016030e+13</td>\n",
       "      <td>97.190382</td>\n",
       "      <td>13.210109</td>\n",
       "      <td>2.992798</td>\n",
       "    </tr>\n",
       "    <tr>\n",
       "      <th>std</th>\n",
       "      <td>2.340996e+06</td>\n",
       "      <td>104.593714</td>\n",
       "      <td>13.271104</td>\n",
       "      <td>38.557292</td>\n",
       "    </tr>\n",
       "    <tr>\n",
       "      <th>min</th>\n",
       "      <td>2.016030e+13</td>\n",
       "      <td>10.000000</td>\n",
       "      <td>0.000000</td>\n",
       "      <td>1.000000</td>\n",
       "    </tr>\n",
       "    <tr>\n",
       "      <th>25%</th>\n",
       "      <td>2.016030e+13</td>\n",
       "      <td>20.000000</td>\n",
       "      <td>2.000000</td>\n",
       "      <td>1.000000</td>\n",
       "    </tr>\n",
       "    <tr>\n",
       "      <th>50%</th>\n",
       "      <td>2.016030e+13</td>\n",
       "      <td>50.000000</td>\n",
       "      <td>20.000000</td>\n",
       "      <td>1.000000</td>\n",
       "    </tr>\n",
       "    <tr>\n",
       "      <th>75%</th>\n",
       "      <td>2.016031e+13</td>\n",
       "      <td>150.000000</td>\n",
       "      <td>20.000000</td>\n",
       "      <td>2.000000</td>\n",
       "    </tr>\n",
       "    <tr>\n",
       "      <th>max</th>\n",
       "      <td>2.016031e+13</td>\n",
       "      <td>420.000000</td>\n",
       "      <td>500.000000</td>\n",
       "      <td>4103.000000</td>\n",
       "    </tr>\n",
       "  </tbody>\n",
       "</table>\n",
       "</div>"
      ],
      "text/plain": [
       "          timestamp        checkin      n_results  result_position\n",
       "count  4.001650e+05  223824.000000  136234.000000    230482.000000\n",
       "mean   2.016030e+13      97.190382      13.210109         2.992798\n",
       "std    2.340996e+06     104.593714      13.271104        38.557292\n",
       "min    2.016030e+13      10.000000       0.000000         1.000000\n",
       "25%    2.016030e+13      20.000000       2.000000         1.000000\n",
       "50%    2.016030e+13      50.000000      20.000000         1.000000\n",
       "75%    2.016031e+13     150.000000      20.000000         2.000000\n",
       "max    2.016031e+13     420.000000     500.000000      4103.000000"
      ]
     },
     "execution_count": 7,
     "metadata": {},
     "output_type": "execute_result"
    }
   ],
   "source": [
    "df.describe()"
   ]
  },
  {
   "cell_type": "markdown",
   "metadata": {},
   "source": [
    "isna().sum() was used to determine the number of nulls per column in the dataset."
   ]
  },
  {
   "cell_type": "code",
   "execution_count": 8,
   "metadata": {},
   "outputs": [
    {
     "data": {
      "text/plain": [
       "uuid                    0\n",
       "timestamp               0\n",
       "session_id              0\n",
       "group                   0\n",
       "action                  0\n",
       "checkin            176341\n",
       "page_id                 0\n",
       "n_results          263931\n",
       "result_position    169683\n",
       "dtype: int64"
      ]
     },
     "execution_count": 8,
     "metadata": {},
     "output_type": "execute_result"
    }
   ],
   "source": [
    "df.isna().sum()"
   ]
  },
  {
   "cell_type": "markdown",
   "metadata": {},
   "source": [
    "Similarly, isnull() was used to identify the number of cases where the values in all the three columns 'checkin', 'n_results' and 'result_position' were null."
   ]
  },
  {
   "cell_type": "code",
   "execution_count": 9,
   "metadata": {},
   "outputs": [
    {
     "data": {
      "text/plain": [
       "6028"
      ]
     },
     "execution_count": 9,
     "metadata": {},
     "output_type": "execute_result"
    }
   ],
   "source": [
    "len(df.loc[(df['checkin'].isnull()) \n",
    "           & (df['n_results'].isnull()) \n",
    "           & (df['result_position'].isnull())])"
   ]
  },
  {
   "cell_type": "markdown",
   "metadata": {},
   "source": [
    "Finally we can check the amount of searches, visits and checkins by counting the values in the action column"
   ]
  },
  {
   "cell_type": "code",
   "execution_count": 10,
   "metadata": {},
   "outputs": [
    {
     "data": {
      "text/plain": [
       "checkin             223824\n",
       "searchResultPage    136234\n",
       "visitPage            40107\n",
       "Name: action, dtype: int64"
      ]
     },
     "execution_count": 10,
     "metadata": {},
     "output_type": "execute_result"
    }
   ],
   "source": [
    "df.action.value_counts()"
   ]
  },
  {
   "cell_type": "markdown",
   "metadata": {},
   "source": [
    "# TASK 1: \n",
    "### What is our daily overall clickthrough rate? How does it vary between the groups?"
   ]
  },
  {
   "cell_type": "markdown",
   "metadata": {},
   "source": [
    "In order to estimate the overall clickthrough rate, we need to estimate the proportion of the search session where there is at least one visitPage."
   ]
  },
  {
   "cell_type": "code",
   "execution_count": 11,
   "metadata": {},
   "outputs": [
    {
     "name": "stdout",
     "output_type": "stream",
     "text": [
      "number of sessions: 68028\n",
      "number of sessions with at least one visitPage: 26452\n",
      "overall clickthrough rate: 0.3888398894572823\n"
     ]
    }
   ],
   "source": [
    "print( 'number of sessions: ' + str(len(df.session_id.unique())) )\n",
    "print( 'number of sessions with at least one visitPage: ' + str(len(df.loc[df.action == 'visitPage'].session_id.unique())) )\n",
    "print('overall clickthrough rate: ' + str( (len(df.loc[df.action == 'visitPage'].session_id.unique())) / (len(df.session_id.unique())) ) )"
   ]
  },
  {
   "cell_type": "markdown",
   "metadata": {},
   "source": [
    "### The overall clickthrough rate is 0.3888, however, since we want this ratio to be estimated daily, we need to re-estimate it by date and then average the daily rate.\n",
    "\n",
    "The first step is to have the timestamps in a proper format so that it can be used to group by date:"
   ]
  },
  {
   "cell_type": "code",
   "execution_count": 12,
   "metadata": {},
   "outputs": [],
   "source": [
    "# Convert the initial timestamp into the datetime format\n",
    "df['timestamp_correct'] = df.apply(lambda x: datetime.datetime.strptime(str(x['timestamp'])[0:12], '%Y%m%d%H%M%S'), axis=1)"
   ]
  },
  {
   "cell_type": "code",
   "execution_count": 13,
   "metadata": {},
   "outputs": [],
   "source": [
    "# Extract only the date which can be useful to analyze the daily data\n",
    "df['date'] = df['timestamp_correct'].dt.date"
   ]
  },
  {
   "cell_type": "markdown",
   "metadata": {},
   "source": [
    "Then we can estimate the sessions and sessions with visitPage per day, divide them to calculate the daily ratio and finally find the mean:"
   ]
  },
  {
   "cell_type": "code",
   "execution_count": 14,
   "metadata": {},
   "outputs": [
    {
     "data": {
      "text/plain": [
       "0.3884540193323712"
      ]
     },
     "execution_count": 14,
     "metadata": {},
     "output_type": "execute_result"
    }
   ],
   "source": [
    "# Estimate total sessions and total sessions with one visitPage per day\n",
    "sessions = df.sort_values(['date'])[['date','session_id']].groupby('date').session_id.nunique().tolist()\n",
    "sessions_with_visitPage = df.sort_values(['date']).loc[df.action == 'visitPage'][['date','session_id']].groupby('date').session_id.nunique().tolist()\n",
    "# Zip both list to estimate the ratio\n",
    "zip(sessions, sessions_with_visitPage)\n",
    "mean([x / y for x, y in zip(sessions_with_visitPage, sessions)])"
   ]
  },
  {
   "cell_type": "markdown",
   "metadata": {},
   "source": [
    "### The overall daily clickthrough rate is 0.3884, slightly below the overall.\n",
    "### The next step is to compare the ratio by groups:\n",
    "We can use the same methodology but doing the estimation individually for each group"
   ]
  },
  {
   "cell_type": "code",
   "execution_count": 15,
   "metadata": {},
   "outputs": [
    {
     "data": {
      "text/plain": [
       "0.6678010206288028"
      ]
     },
     "execution_count": 15,
     "metadata": {},
     "output_type": "execute_result"
    }
   ],
   "source": [
    "sessions_A = df.sort_values(['date']).loc[df.group == 'a'][['date','session_id']].groupby('date').session_id.nunique().tolist()\n",
    "sessions_with_visitPage_A = df.sort_values(['date']).loc[(df.action == 'visitPage') & (df.group == 'a')][['date','session_id']].groupby('date').session_id.nunique().tolist()\n",
    "zip(sessions_A, sessions_with_visitPage_A)\n",
    "mean([x / y for x, y in zip(sessions_with_visitPage_A, sessions_A)])"
   ]
  },
  {
   "cell_type": "code",
   "execution_count": 16,
   "metadata": {},
   "outputs": [
    {
     "data": {
      "text/plain": [
       "0.1755471224373909"
      ]
     },
     "execution_count": 16,
     "metadata": {},
     "output_type": "execute_result"
    }
   ],
   "source": [
    "sessions_B = df.sort_values(['date']).loc[df.group == 'b'][['date','session_id']].groupby('date').session_id.nunique().tolist()\n",
    "sessions_with_visitPage_B = df.sort_values(['date']).loc[(df.action == 'visitPage') & (df.group == 'b')][['date','session_id']].groupby('date').session_id.nunique().tolist()\n",
    "zip(sessions_B, sessions_with_visitPage_B)\n",
    "mean([x / y for x, y in zip(sessions_with_visitPage_B, sessions_B)])"
   ]
  },
  {
   "cell_type": "markdown",
   "metadata": {},
   "source": [
    "### As we can see, the average daily clickthrough rate is higher for the group A (0.67) than the group B (0.18) and the overall ratio (0.39)\n",
    "We can visualize the variation by group and day to have a better understanding of the difference:"
   ]
  },
  {
   "cell_type": "code",
   "execution_count": 17,
   "metadata": {},
   "outputs": [
    {
     "data": {
      "image/png": "[encoded data removed]",
      "text/plain": [
       "<Figure size 720x720 with 1 Axes>"
      ]
     },
     "metadata": {
      "needs_background": "light"
     },
     "output_type": "display_data"
    }
   ],
   "source": [
    "# Set the list of items needed for the plot\n",
    "days = df.sort_values(['date'])['timestamp_correct'].dt.date.astype(str).unique()\n",
    "A_means = [x / y for x, y in zip(sessions_with_visitPage_A, sessions_A)]\n",
    "B_means = [x / y for x, y in zip(sessions_with_visitPage_B, sessions_B)]\n",
    "\n",
    "x = np.arange(len(days))  # the labels location\n",
    "width = 0.35  # the width of the bars\n",
    "\n",
    "# Plot setup\n",
    "fig, ax = plt.subplots( figsize=(10,10))\n",
    "rects1 = ax.bar(x - width/2, A_means, width, label='Group_A' , color='#2315c9')\n",
    "rects2 = ax.bar(x + width/2, B_means, width, label='Group_B' , color='#c4e1e9')\n",
    "\n",
    "# Add some text for labels, title and custom x-axis tick labels, etc.\n",
    "ax.set_ylabel('Clickthrough Rates')\n",
    "ax.set_title('Daily Clickthrough Rate by Group')\n",
    "ax.set_xticks(x)\n",
    "ax.set_xticklabels(days)\n",
    "ax.legend()\n",
    "\n",
    "fig.tight_layout()\n",
    "plt.show()"
   ]
  },
  {
   "cell_type": "markdown",
   "metadata": {},
   "source": [
    "### Insights:\n",
    "### - Group_A's Daily Clickthrough Rate is consistently above Group_B's.\n",
    "### - While the Group_A Ratio seems to be stable, that of Group_B is increasing, however, it is far from that of Group_A. "
   ]
  },
  {
   "cell_type": "markdown",
   "metadata": {},
   "source": [
    "# TASK 2: \n",
    "### Which results do people tend to try first? How does it change day-to-day?\n",
    "In order to detect the results that people tend to try first, we need to check which result_position usually gets the first visit per session.\n",
    "\n",
    "To detect this, we can create a summary data frame where we initially store the first visit of each session and merge it with the original to extract the result_position that matches this timestamp."
   ]
  },
  {
   "cell_type": "code",
   "execution_count": 18,
   "metadata": {},
   "outputs": [],
   "source": [
    "# Step 1: create the summary df\n",
    "df_first_visit = df.loc[df['action']=='visitPage'][['session_id','timestamp_correct']].groupby(['session_id']).min()"
   ]
  },
  {
   "cell_type": "code",
   "execution_count": 19,
   "metadata": {},
   "outputs": [],
   "source": [
    "# Step 2: add the result_position data\n",
    "df_first_visit =  pd.merge(df_first_visit \n",
    "                            , df.loc[df['action']=='visitPage'][['session_id','timestamp_correct','result_position','date']]\n",
    "                            , how=\"left\" \n",
    "                            , on=[\"session_id\", \"timestamp_correct\"]\n",
    "                           )"
   ]
  },
  {
   "cell_type": "code",
   "execution_count": 20,
   "metadata": {},
   "outputs": [
    {
     "data": {
      "text/plain": [
       "1.0     17963\n",
       "2.0      3841\n",
       "3.0      1952\n",
       "4.0      1037\n",
       "5.0       611\n",
       "6.0       460\n",
       "7.0       286\n",
       "8.0       191\n",
       "9.0       150\n",
       "10.0      139\n",
       "Name: result_position, dtype: int64"
      ]
     },
     "execution_count": 20,
     "metadata": {},
     "output_type": "execute_result"
    }
   ],
   "source": [
    "df_first_visit.result_position.value_counts().head(10)"
   ]
  },
  {
   "cell_type": "markdown",
   "metadata": {},
   "source": [
    "### As expected, people tend to visit the results in the order that they appear, thus, being the 'result_position' 1 the most visited in the first try, with a 65% of the total first visits recorded, followed by the positions 2, 3.\n",
    "\n",
    "### We can chek too if this is a common trend by day:"
   ]
  },
  {
   "cell_type": "code",
   "execution_count": 21,
   "metadata": {},
   "outputs": [
    {
     "data": {
      "text/plain": [
       "date\n",
       "2016-03-01    1.0\n",
       "2016-03-02    1.0\n",
       "2016-03-03    1.0\n",
       "2016-03-04    1.0\n",
       "2016-03-05    1.0\n",
       "2016-03-06    1.0\n",
       "2016-03-07    1.0\n",
       "2016-03-08    1.0\n",
       "Name: result_position, dtype: float64"
      ]
     },
     "execution_count": 21,
     "metadata": {},
     "output_type": "execute_result"
    }
   ],
   "source": [
    "# We can estimate the mode per day (the most common result selected as the first option)\n",
    "df_first_visit[['date','result_position']].groupby('date')['result_position'].agg(pd.Series.mode)"
   ]
  },
  {
   "cell_type": "markdown",
   "metadata": {},
   "source": [
    "### We can confirm that the most common result selected as the first option per day is still the one with 'result_position' = 1"
   ]
  },
  {
   "cell_type": "markdown",
   "metadata": {},
   "source": [
    "# TASK 3: \n",
    "### What is our daily overall zero results rate? How does it vary between the groups?\n",
    "\n",
    "We can start by estimating the overall zero results rate:"
   ]
  },
  {
   "cell_type": "code",
   "execution_count": 22,
   "metadata": {},
   "outputs": [
    {
     "data": {
      "text/plain": [
       "0.18444000763392399"
      ]
     },
     "execution_count": 22,
     "metadata": {},
     "output_type": "execute_result"
    }
   ],
   "source": [
    "# The ratio of searches with no results to the total number of searches\n",
    "len(df.loc[ (df['n_results'] == 0) & (df['action'] == 'searchResultPage') ]) / len(df.loc[df['action'] == 'searchResultPage'])"
   ]
  },
  {
   "cell_type": "markdown",
   "metadata": {},
   "source": [
    "### The Overall Zero Results Rate is 0.1844\n",
    "\n",
    "Now we can estimate the same ratio by day: "
   ]
  },
  {
   "cell_type": "code",
   "execution_count": 23,
   "metadata": {},
   "outputs": [
    {
     "data": {
      "text/plain": [
       "0.18435118300165268"
      ]
     },
     "execution_count": 23,
     "metadata": {},
     "output_type": "execute_result"
    }
   ],
   "source": [
    "# First estimate of total searches and total searches with no results per day\n",
    "searches = df.loc[ (df['action'] == 'searchResultPage')].sort_values(['date'])[['date','session_id']].groupby('date').size().tolist()\n",
    "searches_0 = df.loc[ (df['n_results'] == 0) & \n",
    "                    (df['action'] == 'searchResultPage')].sort_values(['date'])[['date','session_id']].groupby('date').size().tolist()\n",
    "# Zip both list to estimate the ratio\n",
    "zip(searches, searches_0)\n",
    "mean([x / y for x, y in zip(searches_0, searches)])"
   ]
  },
  {
   "cell_type": "markdown",
   "metadata": {},
   "source": [
    "### The Daily Overall Zero Results Rate is 0.1843\n",
    "Finally we can estimate this for each group to understand its variation:"
   ]
  },
  {
   "cell_type": "code",
   "execution_count": 24,
   "metadata": {},
   "outputs": [
    {
     "data": {
      "text/plain": [
       "0.18312908076338574"
      ]
     },
     "execution_count": 24,
     "metadata": {},
     "output_type": "execute_result"
    }
   ],
   "source": [
    "searches_A = df.loc[(df['action'] == 'searchResultPage') & \n",
    "                    (df['group'] == 'a')].sort_values(['date'])[['date','session_id']].groupby('date').size().tolist()\n",
    "searches_0_A = df.loc[ (df['n_results'] == 0) & \n",
    "                      (df['action'] == 'searchResultPage') &\n",
    "                      (df['group'] == 'a')].sort_values(['date'])[['date','session_id']].groupby('date').size().tolist()\n",
    "zip(searches_A, searches_0_A)\n",
    "mean([x / y for x, y in zip(searches_0_A, searches_A)])"
   ]
  },
  {
   "cell_type": "code",
   "execution_count": 25,
   "metadata": {},
   "outputs": [
    {
     "data": {
      "text/plain": [
       "0.1865176631583894"
      ]
     },
     "execution_count": 25,
     "metadata": {},
     "output_type": "execute_result"
    }
   ],
   "source": [
    "searches_B = df.loc[(df['action'] == 'searchResultPage') & \n",
    "                    (df['group'] == 'b')].sort_values(['date'])[['date','session_id']].groupby('date').size().tolist()\n",
    "searches_0_B = df.loc[ (df['n_results'] == 0) & \n",
    "                      (df['action'] == 'searchResultPage') &\n",
    "                      (df['group'] == 'b')].sort_values(['date'])[['date','session_id']].groupby('date').size().tolist()\n",
    "zip(searches_B, searches_0_B)\n",
    "mean([x / y for x, y in zip(searches_0_B, searches_B)])"
   ]
  },
  {
   "cell_type": "markdown",
   "metadata": {},
   "source": [
    "### The Daily Overall Zero Results Rate of the Group_A (0.1831) is below the overall ratio (0.1843) and the Group_B's  (0.1865)\n",
    "As in task A, we can visualize the variation by group and day to better understand the difference:"
   ]
  },
  {
   "cell_type": "code",
   "execution_count": 26,
   "metadata": {},
   "outputs": [
    {
     "data": {
      "image/png": "[encoded data removed]",
      "text/plain": [
       "<Figure size 720x720 with 1 Axes>"
      ]
     },
     "metadata": {
      "needs_background": "light"
     },
     "output_type": "display_data"
    }
   ],
   "source": [
    "# Set the list of items needed for the plot\n",
    "days = df.sort_values(['date'])['timestamp_correct'].dt.date.astype(str).unique()\n",
    "A_means = [x / y for x, y in zip(searches_0_A, searches_A)]\n",
    "B_means = [x / y for x, y in zip(searches_0_B, searches_B)]\n",
    "\n",
    "x = np.arange(len(days))  # the labels location\n",
    "width = 0.35  # the width of the bars\n",
    "\n",
    "# Plot setup\n",
    "fig, ax = plt.subplots( figsize=(10,10))\n",
    "rects1 = ax.bar(x - width/2, A_means, width, label='Group_A' , color='#2315c9')\n",
    "rects2 = ax.bar(x + width/2, B_means, width, label='Group_B' , color='#c4e1e9')\n",
    "\n",
    "# Add some text for labels, title and custom x-axis tick labels, etc.\n",
    "ax.set_ylabel('Zero Results Rates')\n",
    "ax.set_title('Daily Zero Results Rate by Group')\n",
    "ax.set_xticks(x)\n",
    "ax.set_xticklabels(days)\n",
    "ax.legend()\n",
    "\n",
    "fig.tight_layout()\n",
    "plt.show()"
   ]
  },
  {
   "cell_type": "markdown",
   "metadata": {},
   "source": [
    "### The above plot shows how there are some days where the Zero Results Rate is actually higher in Group_A (opposite to what the overall rate shows). The reason why the overall ratio of Group_B is higher is mainly due to a large increase recorded on days 05 and 06."
   ]
  },
  {
   "cell_type": "markdown",
   "metadata": {},
   "source": [
    "# TASK 4: \n",
    "### Let session length be approximately the time between the first event and the last event in a session. Choose a variable from the dataset and describe its relationship to session length. Visualize the relationship.\n",
    "We can start creating the session length feature for each session: "
   ]
  },
  {
   "cell_type": "code",
   "execution_count": 27,
   "metadata": {},
   "outputs": [],
   "source": [
    "# Step 1: Create a data frame with the first and last events per session\n",
    "df_lenght = df[['session_id','timestamp_correct']].groupby(['session_id']).agg({'timestamp_correct': [ 'min', 'max']}).reset_index()\n",
    "# Step 2: Estimate the session_length & clean the df\n",
    "df_lenght['session_length'] = (df_lenght.iloc[:, 2]-df_lenght.iloc[:, 1]).astype('timedelta64[s]')\n",
    "df_structure = {'session_id': df_lenght.iloc[:, 0], 'first_event': df_lenght.iloc[:, 1], 'max_event': df_lenght.iloc[:, 2], 'session_length': df_lenght.iloc[:, 3]}\n",
    "df_lenght = pd.DataFrame(data=df_structure)\n",
    "# Step 3: Merge the session_length data with the main df\n",
    "df =  pd.merge(df \n",
    "               , df_lenght[['session_id','session_length']]\n",
    "               , how=\"left\" \n",
    "               , on=[\"session_id\"]\n",
    "              )"
   ]
  },
  {
   "cell_type": "markdown",
   "metadata": {},
   "source": [
    "We have created the session_length metric in seconds for greater accuracy when analyzing its relationship to other features. \n",
    "\n",
    "Using the df_length dataframe created above, we can analyze the distribution of session_length"
   ]
  },
  {
   "cell_type": "code",
   "execution_count": 28,
   "metadata": {},
   "outputs": [
    {
     "data": {
      "text/plain": [
       "count     68028.000000\n",
       "mean        150.992885\n",
       "std        2279.231914\n",
       "min           0.000000\n",
       "25%           0.000000\n",
       "50%           0.000000\n",
       "75%           3.000000\n",
       "max      507354.000000\n",
       "Name: session_length, dtype: float64"
      ]
     },
     "execution_count": 28,
     "metadata": {},
     "output_type": "execute_result"
    }
   ],
   "source": [
    "# Check the new metric distribution\n",
    "df_lenght['session_length'].describe()"
   ]
  },
  {
   "cell_type": "markdown",
   "metadata": {},
   "source": [
    "Based on the values returned by the describe() function, we can see that there is a big difference between the quantile 0.75 and the max, which may be due to the presence of large outliers in the sample.\n",
    "\n",
    "Checking different quantiles over the 0.75 and plotting a histogram can help us better understand the distribution of the feature:"
   ]
  },
  {
   "cell_type": "code",
   "execution_count": 29,
   "metadata": {},
   "outputs": [
    {
     "name": "stdout",
     "output_type": "stream",
     "text": [
      "quantile 80: 7.0\n",
      "quantile 85: 54.0\n",
      "quantile 90: 57.0\n",
      "quantile 95: 63.0\n",
      "quantile 96: 117.91999999999825\n",
      "quantile 975: 3296.0\n",
      "quantile 99: 3301.0\n"
     ]
    }
   ],
   "source": [
    "print( 'quantile 80: ' +  str(df_lenght['session_length'].quantile(0.80)))\n",
    "print( 'quantile 85: ' +  str(df_lenght['session_length'].quantile(0.85)))\n",
    "print( 'quantile 90: ' +  str(df_lenght['session_length'].quantile(0.90)))\n",
    "print( 'quantile 95: ' +  str(df_lenght['session_length'].quantile(0.95)))\n",
    "print( 'quantile 96: ' +  str(df_lenght['session_length'].quantile(0.96)))\n",
    "print( 'quantile 975: ' +  str(df_lenght['session_length'].quantile(0.975)))\n",
    "print( 'quantile 99: ' +  str(df_lenght['session_length'].quantile(0.99)))"
   ]
  },
  {
   "cell_type": "markdown",
   "metadata": {},
   "source": [
    "We can already see that after the 96th quantile there is a jump in the value of session_length, and there is another jump from the 0.99th quantile to the max.\n",
    "\n",
    "We can now plot some histograms to visualize these jumps in the overall distribution:"
   ]
  },
  {
   "cell_type": "code",
   "execution_count": 30,
   "metadata": {},
   "outputs": [
    {
     "name": "stderr",
     "output_type": "stream",
     "text": [
      "/Users/jdanieldavilah/miniconda3/envs/firstEnv/lib/python3.9/site-packages/seaborn/distributions.py:2557: FutureWarning: `distplot` is a deprecated function and will be removed in a future version. Please adapt your code to use either `displot` (a figure-level function with similar flexibility) or `histplot` (an axes-level function for histograms).\n",
      "  warnings.warn(msg, FutureWarning)\n"
     ]
    },
    {
     "data": {
      "text/plain": [
       "<AxesSubplot:xlabel='session_length', ylabel='Density'>"
      ]
     },
     "execution_count": 30,
     "metadata": {},
     "output_type": "execute_result"
    },
    {
     "data": {
      "image/png": "[encoded data removed]",
      "text/plain": [
       "<Figure size 1080x360 with 1 Axes>"
      ]
     },
     "metadata": {
      "needs_background": "light"
     },
     "output_type": "display_data"
    }
   ],
   "source": [
    "plt.figure(figsize=(15, 5))\n",
    "sns.distplot(df_lenght.loc[df_lenght.session_length < 5000]['session_length'], color=\"#2315c9\")"
   ]
  },
  {
   "cell_type": "markdown",
   "metadata": {},
   "source": [
    "We can see in this plot the two clearly differentiated groups, the first group of sessions with a duration below 120 seconds, and the other that is around 3300 seconds.\n",
    "\n",
    "We can zoom in on the largest group that is the shortest in length to understand its distribution:"
   ]
  },
  {
   "cell_type": "code",
   "execution_count": 31,
   "metadata": {},
   "outputs": [
    {
     "name": "stderr",
     "output_type": "stream",
     "text": [
      "/Users/jdanieldavilah/miniconda3/envs/firstEnv/lib/python3.9/site-packages/seaborn/distributions.py:2557: FutureWarning: `distplot` is a deprecated function and will be removed in a future version. Please adapt your code to use either `displot` (a figure-level function with similar flexibility) or `histplot` (an axes-level function for histograms).\n",
      "  warnings.warn(msg, FutureWarning)\n"
     ]
    },
    {
     "data": {
      "text/plain": [
       "<AxesSubplot:xlabel='session_length', ylabel='Density'>"
      ]
     },
     "execution_count": 31,
     "metadata": {},
     "output_type": "execute_result"
    },
    {
     "data": {
      "image/png": "[encoded data removed]",
      "text/plain": [
       "<Figure size 1080x360 with 1 Axes>"
      ]
     },
     "metadata": {
      "needs_background": "light"
     },
     "output_type": "display_data"
    }
   ],
   "source": [
    "plt.figure(figsize=(15, 5))\n",
    "sns.distplot(df_lenght.loc[df_lenght.session_length < 150]['session_length'], color=\"#2315c9\")"
   ]
  },
  {
   "cell_type": "markdown",
   "metadata": {},
   "source": [
    "### We can observe that even within this subgroup there are some jumps in the sample distribution, with a group with sessions of almost no duration and a second group of sessions that lasted around one minute\n",
    "Taking into account the subgroups detected, it could be interesting to check the percentage of sessions included in the three most representative:\n",
    "1. with a duration of less than 10 seconds\n",
    "2. lasting about a minute\n",
    "3. with a duration of around 3300 seconds"
   ]
  },
  {
   "cell_type": "code",
   "execution_count": 32,
   "metadata": {},
   "outputs": [
    {
     "name": "stdout",
     "output_type": "stream",
     "text": [
      "0.8143705533015817\n",
      "0.14098606456165108\n",
      "0.0330893161639325\n"
     ]
    }
   ],
   "source": [
    "print( len(df_lenght.loc[df_lenght.session_length <= 10]) / len( df_lenght) )\n",
    "print( len(df_lenght.loc[ (df_lenght.session_length >= 40) & (df_lenght.session_length <= 70) ]) / len( df_lenght) )\n",
    "print( len(df_lenght.loc[ (df_lenght.session_length >= 3100) & (df_lenght.session_length <= 3500) ]) / len( df_lenght) )"
   ]
  },
  {
   "cell_type": "markdown",
   "metadata": {},
   "source": [
    "### We can see that these 3 groups include more than 90% of the sessions.  \n",
    "### Once we have analyzed the nature of the feature, we can now compare it with other variables in the dataset, in this case the column action,  and focus on two possible relationships:\n",
    "### - Whether the number of searches executed or the number of pages visited correlates in any way with the length of sessions.\n",
    "### - if there is any relationship between the duration of a session and the number of results that appeared on the searchResultPage.\n",
    "The first step is to create a dataframe where we can compare for each session, its duration, the total number of results taking into account all searches, and the total number of registered visits:"
   ]
  },
  {
   "cell_type": "code",
   "execution_count": 33,
   "metadata": {},
   "outputs": [],
   "source": [
    "# Estimate the number of search results and visits individually\n",
    "n_searches_df = df.loc[(df['action'] == 'searchResultPage')][['session_id' ,'session_length' , 'action']].groupby(\n",
    "    ['session_id']).agg({'session_length' : 'mean' , 'action' : 'count'}).reset_index()\n",
    "\n",
    "n_visits_df = df.loc[(df['action'] == 'visitPage')][['session_id' , 'session_length' , 'action']].groupby(\n",
    "    ['session_id']).agg({'session_length' : 'mean' , 'action' : 'count'}).reset_index()\n",
    "\n",
    "n_results_df = df.loc[(df['action'] == 'searchResultPage')][['session_id' ,'session_length' , 'n_results']].groupby(\n",
    "    ['session_id']).agg({'session_length' : 'mean' , 'n_results' : 'sum'}).reset_index()\n",
    "\n",
    "# Unify dataframes and change column names\n",
    "lenght_comparison_df =  pd.merge(n_searches_df \n",
    "               , n_results_df\n",
    "               , how='left' \n",
    "               , on=['session_length' , 'session_id']\n",
    "              )\n",
    "lenght_comparison_df = lenght_comparison_df.rename(columns={lenght_comparison_df.columns[2]: 'n_searches'})\n",
    "\n",
    "lenght_comparison_df =  pd.merge(lenght_comparison_df \n",
    "               , n_visits_df \n",
    "               , how='left' \n",
    "               , on=['session_length' , 'session_id']\n",
    "              )\n",
    "lenght_comparison_df = lenght_comparison_df.rename(columns={lenght_comparison_df.columns[4]: 'n_visits'})"
   ]
  },
  {
   "cell_type": "markdown",
   "metadata": {},
   "source": [
    "We can do some data cleaning to fill in the null values in the n_visits feature created by the join:"
   ]
  },
  {
   "cell_type": "code",
   "execution_count": 34,
   "metadata": {},
   "outputs": [],
   "source": [
    "#Fill n_visits == NaN with 0 visits\n",
    "lenght_comparison_df['n_visits'] = lenght_comparison_df['n_visits'].fillna(0)"
   ]
  },
  {
   "cell_type": "markdown",
   "metadata": {},
   "source": [
    "We can check the distribution of these new metrics in the subsample created using describe()"
   ]
  },
  {
   "cell_type": "code",
   "execution_count": 35,
   "metadata": {},
   "outputs": [
    {
     "data": {
      "text/html": [
       "<div>\n",
       "<style scoped>\n",
       "    .dataframe tbody tr th:only-of-type {\n",
       "        vertical-align: middle;\n",
       "    }\n",
       "\n",
       "    .dataframe tbody tr th {\n",
       "        vertical-align: top;\n",
       "    }\n",
       "\n",
       "    .dataframe thead th {\n",
       "        text-align: right;\n",
       "    }\n",
       "</style>\n",
       "<table border=\"1\" class=\"dataframe\">\n",
       "  <thead>\n",
       "    <tr style=\"text-align: right;\">\n",
       "      <th></th>\n",
       "      <th>session_length</th>\n",
       "      <th>n_searches</th>\n",
       "      <th>n_results</th>\n",
       "      <th>n_visits</th>\n",
       "    </tr>\n",
       "  </thead>\n",
       "  <tbody>\n",
       "    <tr>\n",
       "      <th>count</th>\n",
       "      <td>67951.000000</td>\n",
       "      <td>67951.000000</td>\n",
       "      <td>67951.000000</td>\n",
       "      <td>67951.000000</td>\n",
       "    </tr>\n",
       "    <tr>\n",
       "      <th>mean</th>\n",
       "      <td>150.711675</td>\n",
       "      <td>2.004886</td>\n",
       "      <td>26.484761</td>\n",
       "      <td>0.589130</td>\n",
       "    </tr>\n",
       "    <tr>\n",
       "      <th>std</th>\n",
       "      <td>2280.231403</td>\n",
       "      <td>3.443526</td>\n",
       "      <td>50.755222</td>\n",
       "      <td>1.244703</td>\n",
       "    </tr>\n",
       "    <tr>\n",
       "      <th>min</th>\n",
       "      <td>0.000000</td>\n",
       "      <td>1.000000</td>\n",
       "      <td>0.000000</td>\n",
       "      <td>0.000000</td>\n",
       "    </tr>\n",
       "    <tr>\n",
       "      <th>25%</th>\n",
       "      <td>0.000000</td>\n",
       "      <td>1.000000</td>\n",
       "      <td>8.000000</td>\n",
       "      <td>0.000000</td>\n",
       "    </tr>\n",
       "    <tr>\n",
       "      <th>50%</th>\n",
       "      <td>0.000000</td>\n",
       "      <td>1.000000</td>\n",
       "      <td>20.000000</td>\n",
       "      <td>0.000000</td>\n",
       "    </tr>\n",
       "    <tr>\n",
       "      <th>75%</th>\n",
       "      <td>3.000000</td>\n",
       "      <td>2.000000</td>\n",
       "      <td>28.000000</td>\n",
       "      <td>1.000000</td>\n",
       "    </tr>\n",
       "    <tr>\n",
       "      <th>max</th>\n",
       "      <td>507354.000000</td>\n",
       "      <td>484.000000</td>\n",
       "      <td>5600.000000</td>\n",
       "      <td>75.000000</td>\n",
       "    </tr>\n",
       "  </tbody>\n",
       "</table>\n",
       "</div>"
      ],
      "text/plain": [
       "       session_length    n_searches     n_results      n_visits\n",
       "count    67951.000000  67951.000000  67951.000000  67951.000000\n",
       "mean       150.711675      2.004886     26.484761      0.589130\n",
       "std       2280.231403      3.443526     50.755222      1.244703\n",
       "min          0.000000      1.000000      0.000000      0.000000\n",
       "25%          0.000000      1.000000      8.000000      0.000000\n",
       "50%          0.000000      1.000000     20.000000      0.000000\n",
       "75%          3.000000      2.000000     28.000000      1.000000\n",
       "max     507354.000000    484.000000   5600.000000     75.000000"
      ]
     },
     "execution_count": 35,
     "metadata": {},
     "output_type": "execute_result"
    }
   ],
   "source": [
    "lenght_comparison_df.describe()"
   ]
  },
  {
   "cell_type": "markdown",
   "metadata": {},
   "source": [
    "Since there is a large difference between the 0.75th percentile and the maximum across all features there are likely to be some outliers in the sample, which we can detect by checking the distribution at the highest percentiles."
   ]
  },
  {
   "cell_type": "code",
   "execution_count": 36,
   "metadata": {},
   "outputs": [
    {
     "name": "stdout",
     "output_type": "stream",
     "text": [
      "n_searches quantile 0.975: 7.0\n",
      "n_results quantile 0.975: 100.0\n",
      "n_visits quantile 0.975: 3.0\n"
     ]
    }
   ],
   "source": [
    "print( 'n_searches quantile 0.975: ' +  str(lenght_comparison_df.n_searches.quantile(0.975)))\n",
    "print( 'n_results quantile 0.975: ' +  str(lenght_comparison_df.n_results.quantile(0.975)))\n",
    "print( 'n_visits quantile 0.975: ' +  str(lenght_comparison_df.n_visits.quantile(0.975)))"
   ]
  },
  {
   "cell_type": "markdown",
   "metadata": {},
   "source": [
    "And we can see from the above results, that there are some big outliers that are likely to distort the analysis, and we can exclude them to have a better understanding of the relationship of the metrics.\n",
    "\n",
    "Now we can check the correlation of session_length with the rest of the features:"
   ]
  },
  {
   "cell_type": "code",
   "execution_count": 37,
   "metadata": {},
   "outputs": [
    {
     "data": {
      "text/plain": [
       "<AxesSubplot:>"
      ]
     },
     "execution_count": 37,
     "metadata": {},
     "output_type": "execute_result"
    },
    {
     "data": {
      "image/png": "[encoded data removed]",
      "text/plain": [
       "<Figure size 720x576 with 2 Axes>"
      ]
     },
     "metadata": {
      "needs_background": "light"
     },
     "output_type": "display_data"
    }
   ],
   "source": [
    "plt.figure(figsize=(10, 8))\n",
    "sns.heatmap(lenght_comparison_df.loc[\n",
    "    (lenght_comparison_df.session_length <= 150) &\n",
    "    (lenght_comparison_df.n_searches <= 7) &\n",
    "    (lenght_comparison_df.n_results <= 100) &\n",
    "    (lenght_comparison_df.n_visits <= 3) \n",
    "][['session_length' , 'n_searches' , 'n_visits' , 'n_results']].corr(), annot=True, cmap='Blues')"
   ]
  },
  {
   "cell_type": "markdown",
   "metadata": {},
   "source": [
    "### As we can see in the correlation plot, none of the evaluated variables is highly correlated with the session_lenght, with the number of visits being the one with the strongest relationship (0.41), which means that sometimes having more visits can increase the duration of the session, but not all the time.\n",
    "\n",
    "### Similarly, there is no linear trend between session_length and the other two features, so performing more searches or returning more results on those searches does not necessarily mean the session lasts longer.\n",
    "\n",
    "We can finally check the correlations with the three main groups detected in the session_length distribution plot:"
   ]
  },
  {
   "cell_type": "code",
   "execution_count": 38,
   "metadata": {},
   "outputs": [
    {
     "data": {
      "text/plain": [
       "<AxesSubplot:>"
      ]
     },
     "execution_count": 38,
     "metadata": {},
     "output_type": "execute_result"
    },
    {
     "data": {
      "image/png": "[encoded data removed]",
      "text/plain": [
       "<Figure size 720x576 with 2 Axes>"
      ]
     },
     "metadata": {
      "needs_background": "light"
     },
     "output_type": "display_data"
    }
   ],
   "source": [
    "# Group of sessions of almost no duration\n",
    "plt.figure(figsize=(10, 8))\n",
    "sns.heatmap(lenght_comparison_df.loc[\n",
    "    (lenght_comparison_df.session_length <= 10) &\n",
    "    (lenght_comparison_df.n_searches <= 7) &\n",
    "    (lenght_comparison_df.n_results <= 100) &\n",
    "    (lenght_comparison_df.n_visits <= 3) \n",
    "][['session_length' , 'n_searches' , 'n_visits' , 'n_results']].corr(), annot=True, cmap='Blues')"
   ]
  },
  {
   "cell_type": "markdown",
   "metadata": {},
   "source": [
    "This group is where features are most correlated to session_length, with the number of visits showing a medium correlation with the session length"
   ]
  },
  {
   "cell_type": "code",
   "execution_count": 39,
   "metadata": {},
   "outputs": [
    {
     "data": {
      "text/plain": [
       "<AxesSubplot:>"
      ]
     },
     "execution_count": 39,
     "metadata": {},
     "output_type": "execute_result"
    },
    {
     "data": {
      "image/png": "[encoded data removed]",
      "text/plain": [
       "<Figure size 720x576 with 2 Axes>"
      ]
     },
     "metadata": {
      "needs_background": "light"
     },
     "output_type": "display_data"
    }
   ],
   "source": [
    "# Group of sessions that lasted around one minute\n",
    "plt.figure(figsize=(10, 8))\n",
    "sns.heatmap(lenght_comparison_df.loc[\n",
    "    (lenght_comparison_df.session_length < 70) &\n",
    "    (lenght_comparison_df.session_length > 40) &\n",
    "    (lenght_comparison_df.n_searches <= 7) &\n",
    "    (lenght_comparison_df.n_results <= 100) &\n",
    "    (lenght_comparison_df.n_visits <= 3) \n",
    "][['session_length' , 'n_searches' , 'n_visits' , 'n_results']].corr(), annot=True, cmap='Blues')"
   ]
  },
  {
   "cell_type": "markdown",
   "metadata": {},
   "source": [
    "In this group the features evaluated are less correlated to session_length than the previous one. "
   ]
  },
  {
   "cell_type": "code",
   "execution_count": 40,
   "metadata": {},
   "outputs": [
    {
     "data": {
      "text/plain": [
       "<AxesSubplot:>"
      ]
     },
     "execution_count": 40,
     "metadata": {},
     "output_type": "execute_result"
    },
    {
     "data": {
      "image/png": "[encoded data removed]",
      "text/plain": [
       "<Figure size 720x576 with 2 Axes>"
      ]
     },
     "metadata": {
      "needs_background": "light"
     },
     "output_type": "display_data"
    }
   ],
   "source": [
    "# Group of sessions that lasted around one hour\n",
    "plt.figure(figsize=(10, 8))\n",
    "sns.heatmap(lenght_comparison_df.loc[\n",
    "    (lenght_comparison_df.session_length < 3500) &\n",
    "    (lenght_comparison_df.session_length > 3100) &\n",
    "    (lenght_comparison_df.n_searches <= 7) &\n",
    "    (lenght_comparison_df.n_results <= 100) &\n",
    "    (lenght_comparison_df.n_visits <= 3) \n",
    "][['session_length' , 'n_searches' , 'n_visits' , 'n_results']].corr(), annot=True, cmap='Blues')"
   ]
  },
  {
   "cell_type": "markdown",
   "metadata": {},
   "source": [
    "In this group all features are equally correlated to session_length.\n",
    "\n",
    "### We can conclude that:\n",
    "### - None of the evaluated variables is highly correlated with session_length\n",
    "### - The longer the session lasts, the more the relationship between these variables varies and the correlation is weaker\n",
    "### - Number of visits being the one with the strongest relationship (0.42 overall and 0.48 for short sessions)"
   ]
  },
  {
   "cell_type": "markdown",
   "metadata": {},
   "source": [
    "# TASK 5: \n",
    "### Summarize your findings in an executive summary.\n",
    "A copy of this summary will be available on github in pdf format."
   ]
  },
  {
   "cell_type": "markdown",
   "metadata": {},
   "source": [
    "### EXECUTIVE SUMMARY\n",
    "# Users Behavior during the search - Analysis \n",
    "\n",
    "### Background\n",
    "This analysis was done for the general purpose of helping the Discovery Team understand how users behave regarding their searches on the platform and what specific actions they tend to take during the time they spend on the page. The study was carried out considering the data of eight days, starting on 03-01-2016 and ending on 03-08-2016, and evaluating two groups of users, 'Group A' and 'Group B'. During this period, a total of 136234 searches were performed and 40107 pages were visited from these searches.\n",
    "\n",
    "### Analysis Focus\n",
    "For this review, the Discovery Team was specifically interested in looking at two metrics:\n",
    "1. Clickthrough Rate: the proportion of search sessions where the user clicked on one of the results displayed.\n",
    "2. Zero Results Rate: the proportion of searches that yielded 0 results.\n",
    "\n",
    "Some other metrics and actions evaluated in the analysis are the searches and pages visited from the searches, the search results that people tend to try first and the duration of the sessions.\n",
    "\n",
    "### Methodology\n",
    "The analysis was carried out following the questions, priorities and concerns of the Discovery Team, considering one task at a time, however its results can be divided into two sections for a better understanding:\n",
    "1. Monitoring of Main Metrics: the performance of the Clickthrough Rate and the Zero Results Rate, were analyzed by groups and by day to understand their trends and patterns. \n",
    "2. Evaluation of Secondary Metrics: The other metrics were analyzed with the aim of understanding both their individual behavior and the relationship between them.\n",
    "\n",
    "### Main Insights\n",
    "1. The Daily Overall Clickthrough Rate was 0.39 which seems like a low ratio; however, when considering the groups, we can see that Group_A performed considerably better (0.67) and consistently over the days. On the other hand, the low Group_B ratio (0.18) had a negative impact on the general metric, despite having increased in recent days.\n",
    "2. The Daily Overall Zero Results was 0.18 and had a similar performance in both groups, with the ratio of Group_B slightly higher due to a large increase recorded on days 05 and 06.\n",
    "3. Neither the number of searches, nor the pages visited nor the search results determine the duration of a session or vice versa. Only the number of pages visited showed any relationship to session duration, however, the longer the session, the weaker the correlation with visits and other metrics.\n",
    "4. More than 90% of the sessions can be grouped by their duration into three groups: Those that end in 10 seconds or less, those that last around a minute and those that remain active for around an hour.\n",
    "5. The number of visits is also not correlated with the number of searches or with the number of results displayed. In 65% of the time the user visited at least one page, the user clicked on the first search result. People actually tend to visit the results in the order that they appear.  \n",
    "\n",
    "### Final thoughts and next steps\n",
    "In general, Group A performs better in the main metrics evaluated during the eight days monitored. We will have to investigate the reasons for Group_B's poor performance.\n",
    "Having detected the three groups of sessions (according to it duration) it will be interesting to confirm if there is any link between them and the two main groups evaluated(A and B). \n",
    "Since pageviews are the goal of search, the focus should not be on having longer sessions, or displaying more search results, but on optimizing rankings to display the best products in the top positions.\n"
   ]
  }
 ],
 "metadata": {
  "kernelspec": {
   "display_name": "firstEnv",
   "language": "python",
   "name": "firstenv"
  },
  "language_info": {
   "codemirror_mode": {
    "name": "ipython",
    "version": 3
   },
   "file_extension": ".py",
   "mimetype": "text/x-python",
   "name": "python",
   "nbconvert_exporter": "python",
   "pygments_lexer": "ipython3",
   "version": "3.9.2"
  }
 },
 "nbformat": 4,
 "nbformat_minor": 2
}
